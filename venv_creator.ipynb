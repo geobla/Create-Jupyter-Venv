{
 "cells": [
  {
   "cell_type": "markdown",
   "id": "9b20c7dc-17c2-4ded-885d-349abd418ca2",
   "metadata": {},
   "source": [
    "# Install Virtual environment in Jupyter"
   ]
  },
  {
   "cell_type": "markdown",
   "id": "57058650-a1d3-4933-ba72-efd506291e5b",
   "metadata": {},
   "source": [
    "## Create a Virtual Environment"
   ]
  },
  {
   "cell_type": "markdown",
   "id": "7f03bafd-3f7a-48f1-af54-2d2da2a01cb1",
   "metadata": {},
   "source": [
    "`!python -m venv name_of_your_venv`"
   ]
  },
  {
   "cell_type": "code",
   "execution_count": 3,
   "id": "2ae54349-3498-4011-8698-9f1fae8d5893",
   "metadata": {},
   "outputs": [],
   "source": [
    "!python -m venv tradingview_venv"
   ]
  },
  {
   "cell_type": "markdown",
   "id": "d8421996-7af1-4ad7-ac0f-240d4223d175",
   "metadata": {},
   "source": [
    "## Activate the Virtual Environment:"
   ]
  },
  {
   "cell_type": "code",
   "execution_count": 6,
   "id": "bc94df75-89c3-411b-b2ab-01c5e842d7da",
   "metadata": {},
   "outputs": [],
   "source": [
    "import sys"
   ]
  },
  {
   "cell_type": "code",
   "execution_count": 7,
   "id": "c4bd0d2e-ed2d-427d-b87e-941b4d7e4ab3",
   "metadata": {
    "scrolled": true
   },
   "outputs": [
    {
     "name": "stdout",
     "output_type": "stream",
     "text": [
      "Requirement already satisfied: ipykernel in /opt/mambaforge/lib/python3.10/site-packages (6.25.2)\n",
      "Requirement already satisfied: comm>=0.1.1 in /opt/mambaforge/lib/python3.10/site-packages (from ipykernel) (0.1.4)\n",
      "Requirement already satisfied: debugpy>=1.6.5 in /opt/mambaforge/lib/python3.10/site-packages (from ipykernel) (1.8.0)\n",
      "Requirement already satisfied: ipython>=7.23.1 in /opt/mambaforge/lib/python3.10/site-packages (from ipykernel) (8.15.0)\n",
      "Requirement already satisfied: jupyter-client>=6.1.12 in /opt/mambaforge/lib/python3.10/site-packages (from ipykernel) (8.3.1)\n",
      "Requirement already satisfied: jupyter-core!=5.0.*,>=4.12 in /opt/mambaforge/lib/python3.10/site-packages (from ipykernel) (5.3.1)\n",
      "Requirement already satisfied: matplotlib-inline>=0.1 in /opt/mambaforge/lib/python3.10/site-packages (from ipykernel) (0.1.6)\n",
      "Requirement already satisfied: nest-asyncio in /opt/mambaforge/lib/python3.10/site-packages (from ipykernel) (1.5.6)\n",
      "Requirement already satisfied: packaging in /opt/mambaforge/lib/python3.10/site-packages (from ipykernel) (23.1)\n",
      "Requirement already satisfied: psutil in /opt/mambaforge/lib/python3.10/site-packages (from ipykernel) (5.9.5)\n",
      "Requirement already satisfied: pyzmq>=20 in /opt/mambaforge/lib/python3.10/site-packages (from ipykernel) (25.1.1)\n",
      "Requirement already satisfied: tornado>=6.1 in /opt/mambaforge/lib/python3.10/site-packages (from ipykernel) (6.3.3)\n",
      "Requirement already satisfied: traitlets>=5.4.0 in /opt/mambaforge/lib/python3.10/site-packages (from ipykernel) (5.10.0)\n",
      "Requirement already satisfied: backcall in /opt/mambaforge/lib/python3.10/site-packages (from ipython>=7.23.1->ipykernel) (0.2.0)\n",
      "Requirement already satisfied: decorator in /opt/mambaforge/lib/python3.10/site-packages (from ipython>=7.23.1->ipykernel) (5.1.1)\n",
      "Requirement already satisfied: jedi>=0.16 in /opt/mambaforge/lib/python3.10/site-packages (from ipython>=7.23.1->ipykernel) (0.19.0)\n",
      "Requirement already satisfied: pickleshare in /opt/mambaforge/lib/python3.10/site-packages (from ipython>=7.23.1->ipykernel) (0.7.5)\n",
      "Requirement already satisfied: prompt-toolkit!=3.0.37,<3.1.0,>=3.0.30 in /opt/mambaforge/lib/python3.10/site-packages (from ipython>=7.23.1->ipykernel) (3.0.39)\n",
      "Requirement already satisfied: pygments>=2.4.0 in /opt/mambaforge/lib/python3.10/site-packages (from ipython>=7.23.1->ipykernel) (2.16.1)\n",
      "Requirement already satisfied: stack-data in /opt/mambaforge/lib/python3.10/site-packages (from ipython>=7.23.1->ipykernel) (0.6.2)\n",
      "Requirement already satisfied: exceptiongroup in /opt/mambaforge/lib/python3.10/site-packages (from ipython>=7.23.1->ipykernel) (1.1.3)\n",
      "Requirement already satisfied: pexpect>4.3 in /opt/mambaforge/lib/python3.10/site-packages (from ipython>=7.23.1->ipykernel) (4.8.0)\n",
      "Requirement already satisfied: python-dateutil>=2.8.2 in /opt/mambaforge/lib/python3.10/site-packages (from jupyter-client>=6.1.12->ipykernel) (2.8.2)\n",
      "Requirement already satisfied: platformdirs>=2.5 in /opt/mambaforge/lib/python3.10/site-packages (from jupyter-core!=5.0.*,>=4.12->ipykernel) (3.10.0)\n",
      "Requirement already satisfied: parso<0.9.0,>=0.8.3 in /opt/mambaforge/lib/python3.10/site-packages (from jedi>=0.16->ipython>=7.23.1->ipykernel) (0.8.3)\n",
      "Requirement already satisfied: ptyprocess>=0.5 in /opt/mambaforge/lib/python3.10/site-packages (from pexpect>4.3->ipython>=7.23.1->ipykernel) (0.7.0)\n",
      "Requirement already satisfied: wcwidth in /opt/mambaforge/lib/python3.10/site-packages (from prompt-toolkit!=3.0.37,<3.1.0,>=3.0.30->ipython>=7.23.1->ipykernel) (0.2.6)\n",
      "Requirement already satisfied: six>=1.5 in /opt/mambaforge/lib/python3.10/site-packages (from python-dateutil>=2.8.2->jupyter-client>=6.1.12->ipykernel) (1.16.0)\n",
      "Requirement already satisfied: executing>=1.2.0 in /opt/mambaforge/lib/python3.10/site-packages (from stack-data->ipython>=7.23.1->ipykernel) (1.2.0)\n",
      "Requirement already satisfied: asttokens>=2.1.0 in /opt/mambaforge/lib/python3.10/site-packages (from stack-data->ipython>=7.23.1->ipykernel) (2.4.0)\n",
      "Requirement already satisfied: pure-eval in /opt/mambaforge/lib/python3.10/site-packages (from stack-data->ipython>=7.23.1->ipykernel) (0.2.2)\n",
      "\u001b[33mWARNING: Running pip as the 'root' user can result in broken permissions and conflicting behaviour with the system package manager. It is recommended to use a virtual environment instead: https://pip.pypa.io/warnings/venv\u001b[0m\u001b[33m\n",
      "\u001b[0m"
     ]
    }
   ],
   "source": [
    "!{sys.executable} -m pip install ipykernel"
   ]
  },
  {
   "cell_type": "code",
   "execution_count": 8,
   "id": "e7aa9175-efa9-4db1-a537-63bdc0326213",
   "metadata": {},
   "outputs": [
    {
     "name": "stdout",
     "output_type": "stream",
     "text": [
      "Installed kernelspec tradingview_venv in /root/.local/share/jupyter/kernels/tradingview_venv\n"
     ]
    }
   ],
   "source": [
    "!{sys.executable} -m ipykernel install --user --name=tradingview_venv"
   ]
  },
  {
   "cell_type": "markdown",
   "id": "25fbd046-117e-4dfa-bd81-ceaca56d7aa9",
   "metadata": {},
   "source": [
    "## Switch to the New Kernel:\n",
    "#### If you're using Jupyter Notebook: Click on Kernel > Change kernel and select tradingview_venv from the dropdown list.\n",
    "#### If you're using Jupyter Lab: Click on the kernel name in the top right corner and select tradingview_venv from the dropdown list."
   ]
  },
  {
   "cell_type": "code",
   "execution_count": null,
   "id": "5c6654e1-7aa5-491a-8c77-4cceb1785eb2",
   "metadata": {},
   "outputs": [],
   "source": []
  }
 ],
 "metadata": {
  "kernelspec": {
   "display_name": "Python 3 (ipykernel)",
   "language": "python",
   "name": "python3"
  },
  "language_info": {
   "codemirror_mode": {
    "name": "ipython",
    "version": 3
   },
   "file_extension": ".py",
   "mimetype": "text/x-python",
   "name": "python",
   "nbconvert_exporter": "python",
   "pygments_lexer": "ipython3",
   "version": "3.10.12"
  }
 },
 "nbformat": 4,
 "nbformat_minor": 5
}
